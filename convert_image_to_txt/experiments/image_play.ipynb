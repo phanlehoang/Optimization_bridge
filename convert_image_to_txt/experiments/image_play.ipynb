{
 "cells": [
  {
   "cell_type": "code",
   "execution_count": 1,
   "metadata": {},
   "outputs": [],
   "source": [
    "import cv2\n",
    "import numpy as np\n",
    "img=cv2.imread('digit.png',0) \n",
    "ret,thresh=cv2.threshold(img,127,255,0) \n",
    "edges=cv2.Canny(img,100,200) "
   ]
  },
  {
   "cell_type": "code",
   "execution_count": 2,
   "metadata": {},
   "outputs": [
    {
     "name": "stdout",
     "output_type": "stream",
     "text": [
      "(698, 437)\n"
     ]
    }
   ],
   "source": [
    "\n",
    "\n",
    "import cv2\n",
    "\n",
    "\n",
    "\n",
    "from PIL import Image\n",
    "import numpy as np\n",
    "\n",
    "# Load ảnh\n",
    "image = Image.open('big_bridge.jpg')\n",
    "row = 14\n",
    "col = 22\n",
    "print(image.size)\n",
    "# (3508, 2480)\n",
    "image = np.array(image)\n",
    "# Chuyển ảnh sang mau xám\n",
    "gray = cv2.cvtColor(image, cv2.COLOR_BGR2GRAY)\n",
    "\n",
    "#print gray vào file \n",
    "with open('gray.txt', 'w') as f:\n",
    "    for item in gray:\n",
    "        f.write(\"%s\\n\" % item)\n",
    "#thu nho anh\n",
    "gray = cv2.resize(gray, (0,0), fx=0.5, fy=0.5)\n",
    "gray[gray<100]=0\n",
    "gray[gray>=100]=255\n",
    "with open('gray.txt', 'w') as f:\n",
    "    for item in gray:\n",
    "        f.write(\"%s\\n\" % item)"
   ]
  },
  {
   "cell_type": "code",
   "execution_count": 3,
   "metadata": {},
   "outputs": [
    {
     "name": "stdout",
     "output_type": "stream",
     "text": [
      "2\n",
      "212\n",
      "13\n",
      "342\n"
     ]
    }
   ],
   "source": [
    "#Lấy cột x min sao cho gray[x][y] != 255\n",
    "def get_x_min(gray):\n",
    "    for i in range(len(gray)):\n",
    "        for j in range(len(gray[i])):\n",
    "            if gray[i][j] != 255:\n",
    "                return i\n",
    "    return -1\n",
    "#tương tự với cột x max, hàng y min, hàng y max\n",
    "def get_x_max(gray):\n",
    "    for i in range(len(gray)-1, -1, -1):\n",
    "        for j in range(len(gray[i])):\n",
    "            if gray[i][j] != 255:\n",
    "                return i\n",
    "    return -1\n",
    "def get_y_min(gray):\n",
    "    for i in range(len(gray[0])):\n",
    "        for j in range(len(gray)):\n",
    "            if gray[j][i] != 255:\n",
    "                return i\n",
    "    return -1\n",
    "def get_y_max(gray):\n",
    "    for i in range(len(gray[0])-1, -1, -1):\n",
    "        for j in range(len(gray)):\n",
    "            if gray[j][i] != 255:\n",
    "                return i\n",
    "    return -1\n",
    "\n",
    "print(get_x_min(gray))\n",
    "print(get_x_max(gray))\n",
    "print(get_y_min(gray))\n",
    "print(get_y_max(gray))\n"
   ]
  },
  {
   "cell_type": "code",
   "execution_count": 4,
   "metadata": {},
   "outputs": [
    {
     "data": {
      "text/plain": [
       "True"
      ]
     },
     "execution_count": 4,
     "metadata": {},
     "output_type": "execute_result"
    }
   ],
   "source": [
    "#crop ảnh theo x_min, x_max, y_min, y_max\n",
    "gray = gray[get_x_min(gray)-1:get_x_max(gray)+1,\n",
    "            get_y_min(gray)-1:get_y_max(gray)+1]\n",
    "gray.shape\n",
    "#in gray ra ảnh\n",
    "cv2.imwrite('gray.jpg', gray)"
   ]
  },
  {
   "cell_type": "code",
   "execution_count": 5,
   "metadata": {},
   "outputs": [
    {
     "data": {
      "text/plain": [
       "(15, 15)"
      ]
     },
     "execution_count": 5,
     "metadata": {},
     "output_type": "execute_result"
    }
   ],
   "source": [
    "#cắt ảnh thành 81 ô\n",
    "def crop_image(image, x, y, w, h):\n",
    "    return image[x:x+w, y:y+h]\n",
    "\n",
    "row_step = gray.shape[0] // row\n",
    "col_step = gray.shape[1] // col\n",
    "for i in range(row):\n",
    "    for j in range(col):\n",
    "        crop = crop_image(gray, i*row_step, j*col_step, row_step, col_step)\n",
    "        cv2.imwrite('crop/crop_'+str(i)+'_'+str(j)+'.jpg', crop)\n",
    "row_step, col_step\n"
   ]
  }
 ],
 "metadata": {
  "kernelspec": {
   "display_name": "Python 3",
   "language": "python",
   "name": "python3"
  },
  "language_info": {
   "codemirror_mode": {
    "name": "ipython",
    "version": 3
   },
   "file_extension": ".py",
   "mimetype": "text/x-python",
   "name": "python",
   "nbconvert_exporter": "python",
   "pygments_lexer": "ipython3",
   "version": "3.11.3"
  },
  "orig_nbformat": 4
 },
 "nbformat": 4,
 "nbformat_minor": 2
}
