{
 "cells": [
  {
   "cell_type": "code",
   "execution_count": 8,
   "metadata": {},
   "outputs": [
    {
     "name": "stdout",
     "output_type": "stream",
     "text": [
      "Epoch 1/10\n",
      "1875/1875 [==============================] - 7s 3ms/step - loss: 2.0129 - accuracy: 0.4411\n",
      "Epoch 2/10\n",
      "1875/1875 [==============================] - 6s 3ms/step - loss: 1.1153 - accuracy: 0.7288\n",
      "Epoch 3/10\n",
      "1875/1875 [==============================] - 5s 3ms/step - loss: 0.6475 - accuracy: 0.8298\n",
      "Epoch 4/10\n",
      "1875/1875 [==============================] - 5s 3ms/step - loss: 0.4931 - accuracy: 0.8664\n",
      "Epoch 5/10\n",
      "1875/1875 [==============================] - 5s 3ms/step - loss: 0.4204 - accuracy: 0.8848\n",
      "Epoch 6/10\n",
      "1875/1875 [==============================] - 4s 2ms/step - loss: 0.3788 - accuracy: 0.8936\n",
      "Epoch 7/10\n",
      "1875/1875 [==============================] - 5s 3ms/step - loss: 0.3514 - accuracy: 0.9001\n",
      "Epoch 8/10\n",
      "1875/1875 [==============================] - 7s 4ms/step - loss: 0.3312 - accuracy: 0.9053\n",
      "Epoch 9/10\n",
      "1875/1875 [==============================] - 6s 3ms/step - loss: 0.3152 - accuracy: 0.9089\n",
      "Epoch 10/10\n",
      "1875/1875 [==============================] - 6s 3ms/step - loss: 0.3020 - accuracy: 0.9128\n"
     ]
    }
   ],
   "source": [
    "import keras\n",
    "from keras.datasets import mnist\n",
    "from keras.layers import Dense\n",
    "from keras.models import Sequential\n",
    "from keras.optimizers import SGD\n",
    "import matplotlib.pyplot as plt\n",
    "import keras.utils as image\n",
    "\n",
    "\n",
    "\n",
    "(train_x,train_y), (test_x,test_y) =mnist.load_data()\n",
    "\n",
    "train_x = train_x.astype('float32') / 255\n",
    "# test_x = test_x.astype('float32')/255\n",
    "\n",
    "\n",
    "'''print(train_x)\n",
    "print(train_y.shape)\n",
    "print(test_x.shape)\n",
    "print(test_y.shape)'''\n",
    "\n",
    "\n",
    "train_x = train_x.reshape(60000,784)\n",
    "# test_x = test_x.reshape(10000,784)\n",
    "\n",
    "\n",
    "train_y = keras.utils.to_categorical(train_y,10)\n",
    "# test_y = keras.utils.to_categorical(test_y,10)\n",
    "\n",
    "\n",
    "#Initialize our data ************\n",
    "\n",
    "model = Sequential()\n",
    "model.add(Dense(units=128,activation=\"relu\",input_shape=(784,)))\n",
    "model.add(Dense(units=128,activation=\"relu\"))\n",
    "model.add(Dense(units=128,activation=\"relu\"))\n",
    "model.add(Dense(units=10,activation=\"softmax\"))\n",
    "\n",
    "\n",
    "#*** Compile the model **********\n",
    "\n",
    "\n",
    "model.compile(optimizer=SGD(0.001),loss=\"categorical_crossentropy\",metrics=[\"accuracy\"])\n",
    "\n",
    "\n",
    "model.fit(train_x,train_y,batch_size=32,epochs=10,verbose=1)\n",
    "#accuracy = model.evaluate(x=test_x,y=test_y,batch_size=32)\n",
    "#print(\"Accuracy: \",accuracy[1])\n",
    "\n",
    "\n",
    "model.save(\"mnist-model.h5\")\n",
    "\n",
    "# load feautures after training our model\n",
    "model.load_weights(\"mnist-model.h5\")\n",
    "\n",
    "\n"
   ]
  },
  {
   "cell_type": "code",
   "execution_count": 11,
   "metadata": {},
   "outputs": [
    {
     "name": "stdout",
     "output_type": "stream",
     "text": [
      "1/1 [==============================] - 0s 165ms/step\n",
      "Class:  0\n"
     ]
    },
    {
     "data": {
      "image/png": "[encoded data removed]",
      "text/plain": [
       "<Figure size 640x480 with 1 Axes>"
      ]
     },
     "metadata": {},
     "output_type": "display_data"
    },
    {
     "name": "stdout",
     "output_type": "stream",
     "text": [
      "[[4.9101785e-01 3.5642554e-06 1.0632341e-03 1.2607977e-02 3.5288758e-04\n",
      "  4.2404768e-01 1.0324405e-04 4.2943753e-02 8.6179720e-03 1.9241871e-02]]\n"
     ]
    }
   ],
   "source": [
    "import numpy as np\n",
    "from PIL import Image\n",
    "test_img = Image.open(\"3.jpg\").convert('L')\n",
    "test_img = test_img.resize((28,28))\n",
    "test_img = np.array(test_img)\n",
    "img = test_img.copy()\n",
    "img = img.reshape(1,784)\n",
    "#img = 255-img\n",
    "img[img<100]=0\n",
    "img[img>=100]=255\n",
    "img = img.astype('float32') / 255\n",
    "predict_x=model.predict(img) \n",
    "classes_x=np.argmax(predict_x,axis=1)\n",
    "\n",
    "\n",
    "\n",
    "classname = classes_x[0]\n",
    "#img = 255 - test_img\n",
    "        #những giá trị nhỏ hơn 100 thì đặt bằng 0\n",
    "\n",
    "print(\"Class: \",classname)\n",
    "img = img.reshape((28,28))\n",
    "plt.imshow(img, cmap = 'gray')\n",
    "plt.title(classname)\n",
    "plt.show()\n",
    "print(predict_x)"
   ]
  },
  {
   "cell_type": "code",
   "execution_count": 12,
   "metadata": {},
   "outputs": [
    {
     "name": "stdout",
     "output_type": "stream",
     "text": [
      "1/1 [==============================] - 0s 34ms/step\n",
      "Class:  2\n"
     ]
    },
    {
     "data": {
      "image/png": "[encoded data removed]",
      "text/plain": [
       "<Figure size 640x480 with 1 Axes>"
      ]
     },
     "metadata": {},
     "output_type": "display_data"
    },
    {
     "name": "stdout",
     "output_type": "stream",
     "text": [
      "[[9.0942864e-05 1.5783196e-07 8.9085019e-01 7.1428083e-02 2.9219384e-11\n",
      "  1.9951500e-02 4.8462418e-08 5.0966082e-07 1.7678173e-02 4.9005746e-07]]\n"
     ]
    }
   ],
   "source": [
    "import numpy as np\n",
    "from PIL import Image\n",
    "test_img = Image.open(\"crop/crop_0_1.jpg_clear.jpg\").convert(\"L\")\n",
    "test_img = test_img.resize((28,28))\n",
    "test_img = np.array(test_img)\n",
    "img = test_img.reshape(1,784)\n",
    "#img = 255-img\n",
    "#làm mờ\n",
    "\n",
    "img[img<100]=0\n",
    "img[img>=100]=255\n",
    "img = img.astype('float32') / 255\n",
    "\n",
    "predict_x=model.predict(img) \n",
    "classes_x=np.argmax(predict_x,axis=1)\n",
    "\n",
    "\n",
    "\n",
    "classname = classes_x[0]\n",
    "#img = 255 - test_img\n",
    "        #những giá trị nhỏ hơn 100 thì đặt bằng 0\n",
    "\n",
    "print(\"Class: \",classname)\n",
    "img = img.reshape((28,28))\n",
    "plt.imshow(img, cmap = 'gray')\n",
    "plt.title(classname)\n",
    "plt.show()\n",
    "print(predict_x)"
   ]
  },
  {
   "cell_type": "code",
   "execution_count": 13,
   "metadata": {},
   "outputs": [
    {
     "data": {
      "image/png": "[encoded data removed]",
      "text/plain": [
       "<Figure size 640x480 with 1 Axes>"
      ]
     },
     "metadata": {},
     "output_type": "display_data"
    },
    {
     "data": {
      "text/plain": [
       "''"
      ]
     },
     "execution_count": 13,
     "metadata": {},
     "output_type": "execute_result"
    }
   ],
   "source": [
    "import cv2\n",
    "import numpy as np\n",
    "from PIL import Image\n",
    "import pytesseract\n",
    "pytesseract.pytesseract.tesseract_cmd = r'D:\\new_program\\Tesseract-OCR\\tesseract.exe'\n",
    "\n",
    "test_img = Image.open(\"crop/crop_0_1.jpg_clear.jpg\").convert(\"L\")\n",
    "#dùngc\n",
    "\n",
    "img = cv2.imread(\"crop/crop_0_1.jpg_clear.jpg\")\n",
    "plt.imshow(img)\n",
    "plt.show()\n",
    "text = pytesseract.image_to_string(img)\n",
    "text\n"
   ]
  }
 ],
 "metadata": {
  "kernelspec": {
   "display_name": "Python 3",
   "language": "python",
   "name": "python3"
  },
  "language_info": {
   "codemirror_mode": {
    "name": "ipython",
    "version": 3
   },
   "file_extension": ".py",
   "mimetype": "text/x-python",
   "name": "python",
   "nbconvert_exporter": "python",
   "pygments_lexer": "ipython3",
   "version": "3.11.3"
  },
  "orig_nbformat": 4
 },
 "nbformat": 4,
 "nbformat_minor": 2
}
