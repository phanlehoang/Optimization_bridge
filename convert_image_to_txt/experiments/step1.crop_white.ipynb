{
 "cells": [
  {
   "cell_type": "code",
   "execution_count": 1,
   "metadata": {},
   "outputs": [
    {
     "name": "stdout",
     "output_type": "stream",
     "text": [
      "(698, 437)\n"
     ]
    }
   ],
   "source": [
    "\n",
    "\n",
    "import cv2\n",
    "from PIL import Image\n",
    "import numpy as np\n",
    "\n",
    "# Load ảnh\n",
    "image = Image.open('big_bridge.jpg')\n",
    "row = 14\n",
    "col = 22\n",
    "print(image.size)\n",
    "# (3508, 2480)\n",
    "image = np.array(image)\n",
    "# Chuyển ảnh sang mau xám\n",
    "gray = cv2.cvtColor(image, cv2.COLOR_BGR2GRAY)\n",
    "\n",
    "#print gray vào file \n",
    "with open('gray.txt', 'w') as f:\n",
    "    for item in gray:\n",
    "        f.write(\"%s\\n\" % item)\n",
    "#thu nho anh\n",
    "gray = cv2.resize(gray, (0,0), fx=0.5, fy=0.5)\n",
    "gray[gray<100]=0\n",
    "gray[gray>=100]=255\n",
    "with open('gray.txt', 'w') as f:\n",
    "    for item in gray:\n",
    "        f.write(\"%s\\n\" % item)"
   ]
  }
 ],
 "metadata": {
  "kernelspec": {
   "display_name": "Python 3",
   "language": "python",
   "name": "python3"
  },
  "language_info": {
   "codemirror_mode": {
    "name": "ipython",
    "version": 3
   },
   "file_extension": ".py",
   "mimetype": "text/x-python",
   "name": "python",
   "nbconvert_exporter": "python",
   "pygments_lexer": "ipython3",
   "version": "3.11.3"
  },
  "orig_nbformat": 4
 },
 "nbformat": 4,
 "nbformat_minor": 2
}
