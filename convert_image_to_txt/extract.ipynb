{
 "cells": [
  {
   "cell_type": "code",
   "execution_count": 5,
   "metadata": {},
   "outputs": [
    {
     "name": "stdout",
     "output_type": "stream",
     "text": [
      "\n"
     ]
    }
   ],
   "source": [
    "from PIL import Image\n",
    "from pytesseract import pytesseract\n",
    "\n",
    "# Defining paths to tesseract.exe\n",
    "# and the image we would be using\n",
    "path_to_tesseract = r\"D:\\new_program\\Tesseract-OCR\\tesseract.exe\"\n",
    "image_path = r\"bridge_game.png\"\n",
    "image_path2 = r\"geeks.jpg\"\n",
    "image_path3 = r\"2.JPG\"\n",
    "\n",
    "# Opening the image & storing it in an image object\n",
    "img = Image.open(image_path3)\n",
    "\n",
    "# Providing the tesseract executable\n",
    "# location to pytesseract library\n",
    "pytesseract.tesseract_cmd = path_to_tesseract\n",
    "\n",
    "# Passing the image object to image_to_string() function\n",
    "# This function will extract the text from the image\n",
    "text = pytesseract.image_to_string(img)\n",
    "\n",
    "# Displaying the extracted text\n",
    "print(text[:-1])\n",
    "\n"
   ]
  },
  {
   "cell_type": "code",
   "execution_count": null,
   "metadata": {},
   "outputs": [],
   "source": []
  },
  {
   "cell_type": "code",
   "execution_count": 2,
   "metadata": {},
   "outputs": [],
   "source": [
    "from PIL import Image\n",
    "\n",
    "image_1 = img\n",
    "im_1 = image_1.convert('RGB')\n",
    "im_1.save('bridge_game.pdf')"
   ]
  }
 ],
 "metadata": {
  "kernelspec": {
   "display_name": "Python 3",
   "language": "python",
   "name": "python3"
  },
  "language_info": {
   "codemirror_mode": {
    "name": "ipython",
    "version": 3
   },
   "file_extension": ".py",
   "mimetype": "text/x-python",
   "name": "python",
   "nbconvert_exporter": "python",
   "pygments_lexer": "ipython3",
   "version": "3.11.3"
  },
  "orig_nbformat": 4
 },
 "nbformat": 4,
 "nbformat_minor": 2
}
